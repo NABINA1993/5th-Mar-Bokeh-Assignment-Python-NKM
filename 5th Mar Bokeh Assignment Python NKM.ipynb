{
 "cells": [
  {
   "cell_type": "markdown",
   "id": "0060bf6a",
   "metadata": {},
   "source": [
    "Q1. How can you create a Bokeh plot using Python code?"
   ]
  },
  {
   "cell_type": "code",
   "execution_count": 4,
   "id": "32768878",
   "metadata": {},
   "outputs": [],
   "source": [
    "import bokeh.io\n",
    "import bokeh.plotting\n",
    "from bokeh.models import ColumnDataSource\n",
    "\n",
    "# Create data source\n",
    "source = ColumnDataSource(data=dict(x=[1, 2, 3, 4, 5], y=[2, 5, 4, 6, 7]))\n",
    "\n",
    "# Create figure object\n",
    "p = bokeh.plotting.figure()\n",
    "\n",
    "# Add glyphs to figure\n",
    "p.circle(x='x', y='y', source=source, size=10)\n",
    "\n",
    "# Add additional formatting and styling options\n",
    "p.title.text = \"My Bokeh Plot\"\n",
    "p.xaxis.axis_label = \"X-axis label\"\n",
    "p.yaxis.axis_label = \"Y-axis label\"\n",
    "\n",
    "# Show plot\n",
    "bokeh.io.show(p)\n"
   ]
  },
  {
   "cell_type": "markdown",
   "id": "9513ce87",
   "metadata": {},
   "source": [
    "Q2. What are glyphs in Bokeh, and how can you add them to a Bokeh plot? Explain with an example."
   ]
  },
  {
   "cell_type": "code",
   "execution_count": 5,
   "id": "c6906270",
   "metadata": {},
   "outputs": [],
   "source": [
    "import bokeh.plotting as bp\n",
    "\n",
    "# Create a figure object\n",
    "p = bp.figure()\n",
    "\n",
    "# Add a circle glyph to the plot\n",
    "p.circle(x=[1, 2, 3, 4, 5], y=[2, 5, 4, 6, 7], size=10, color=\"navy\")\n",
    "\n",
    "# Add a square glyph to the plot\n",
    "p.square(x=[1, 2, 3, 4, 5], y=[6, 2, 8, 4, 3], size=12, color=\"firebrick\")\n",
    "\n",
    "# Add a line glyph to the plot\n",
    "p.line(x=[1, 2, 3, 4, 5], y=[2, 5, 4, 6, 7], line_width=2, color=\"orange\")\n",
    "\n",
    "# Show the plot\n",
    "bp.show(p)\n"
   ]
  },
  {
   "cell_type": "markdown",
   "id": "6529f8c2",
   "metadata": {},
   "source": [
    "Q3. How can you customize the appearance of a Bokeh plot, including the axes, title, and legend?"
   ]
  },
  {
   "cell_type": "markdown",
   "id": "3922dc64",
   "metadata": {},
   "source": [
    "You can customize the appearance of a Bokeh plot using various options and methods provided by the Bokeh library. Here are some common ways to customize the appearance of a Bokeh plot:\n",
    "\n",
    "Title: You can add a title to a Bokeh plot using the title attribute of the Figure object. For example, to set the title of a \n",
    "plot to \"My Bokeh Plot\", \n",
    "you can use the following code:\n",
    "\n",
    "p.title.text = \"My Bokeh Plot\"\n",
    "\n",
    "Axes: You can customize the appearance of the axes of a Bokeh plot using the xaxis and yaxis attributes of the Figure object. For example, to set the label of the x-axis to \"X-axis label\" and the label of the y-axis to \"Y-axis label\", you can use the following code:\n",
    "\n",
    "\n",
    "p.xaxis.axis_label = \"X-axis label\"\n",
    "p.yaxis.axis_label = \"Y-axis label\"\n",
    "\n",
    "You can also customize other properties of the axes, such as their tick labels, font size, and axis range.\n",
    "\n",
    "\n",
    "Legend: You can add a legend to a Bokeh plot using the legend attribute of the Figure object. For example, to add a legend to a plot with two glyphs, you can use the following code:\n",
    "\n",
    "\n",
    "p.circle(x1, y1, legend_label=\"Circle\")\n",
    "p.line(x2, y2, legend_label=\"Line\")\n",
    "p.legend.location = \"top_left\"\n",
    "\n",
    "This will add a legend to the top-left corner of the plot, with labels \"Circle\" and \"Line\" corresponding to the two glyphs.\n",
    "\n",
    "Colors and styles: You can customize the colors, styles, and other visual properties of the glyphs in a Bokeh plot using various attributes of the glyph objects. For example, to change the color of a circle glyph to red and its size to 10, you can use the following code:\n",
    "\n",
    "p.circle(x, y, size=10, color=\"red\")\n",
    "\n",
    "These are just a few examples of the many ways you can customize the appearance of a Bokeh plot. Bokeh provides a wide range of options and methods to tailor your plots to your specific needs and preferences."
   ]
  },
  {
   "cell_type": "markdown",
   "id": "19fa0db8",
   "metadata": {},
   "source": [
    "Q4. What is a Bokeh server, and how can you use it to create interactive plots that can be updated in \n",
    "real time?"
   ]
  },
  {
   "cell_type": "markdown",
   "id": "f0c2135b",
   "metadata": {},
   "source": [
    "Bokeh server is a component of the Bokeh library that allows you to create interactive plots with real-time updates. The Bokeh server runs a Python process on a server or local machine, which communicates with a web browser to display and update the plots in real-time. Using Bokeh server, you can create complex and interactive plots that respond to user inputs, data updates, or external events.\n",
    "\n",
    "Here are the basic steps to create a Bokeh server application:\n",
    "\n",
    "Import the required modules from the Bokeh library, including curdoc, figure, ColumnDataSource, and any other required modules.\n",
    "\n",
    "Create a ColumnDataSource object to hold your data. This object allows you to update the data on the server side and propagate the changes to the client (web browser) in real-time.\n",
    "\n",
    "Create a figure object and add the desired glyphs to the plot.\n",
    "\n",
    "Define a callback function that will update the ColumnDataSource object when a user interacts with the plot.\n",
    "\n",
    "Use the curdoc module to set up a Bokeh document and add the figure and ColumnDataSource objects to it.\n",
    "\n",
    "Run the Bokeh server using the bokeh serve command, passing the name of your Python script or directory containing your Bokeh application.\n",
    "\n",
    "Access the Bokeh server application in a web browser by visiting the URL http://localhost:5006/your_app_name.\n",
    "\n",
    "Once you have set up your Bokeh server application, the plot will be displayed in the web browser, and any interactions or data updates will be processed by the server and reflected in the plot in real-time.\n",
    "\n"
   ]
  },
  {
   "cell_type": "markdown",
   "id": "8fbd612e",
   "metadata": {},
   "source": [
    "Q5. How can you embed a Bokeh plot into a web page or dashboard using Flask or Django?"
   ]
  },
  {
   "cell_type": "code",
   "execution_count": null,
   "id": "3434cc9a",
   "metadata": {},
   "outputs": [
    {
     "name": "stdout",
     "output_type": "stream",
     "text": [
      " * Serving Flask app '__main__'\n",
      " * Debug mode: on\n"
     ]
    },
    {
     "name": "stderr",
     "output_type": "stream",
     "text": [
      "WARNING: This is a development server. Do not use it in a production deployment. Use a production WSGI server instead.\n",
      " * Running on http://127.0.0.1:5000\n",
      "Press CTRL+C to quit\n",
      " * Restarting with stat\n"
     ]
    }
   ],
   "source": [
    "from flask import Flask, render_template\n",
    "from bokeh.plotting import figure, output_file, save\n",
    "\n",
    "app = Flask(__name__)\n",
    "\n",
    "@app.route('/')\n",
    "def index():\n",
    "    # create a Bokeh plot\n",
    "    plot = figure()\n",
    "    plot.line([1, 2, 3], [4, 5, 6])\n",
    "    \n",
    "    # save the plot to an HTML file\n",
    "    output_file(\"templates/plot.html\")\n",
    "    save(plot)\n",
    "    \n",
    "    # render the HTML template with the embedded plot\n",
    "    return render_template('index.html')\n",
    "\n",
    "if __name__ == '__main__':\n",
    "    app.run(debug=True)\n"
   ]
  },
  {
   "cell_type": "code",
   "execution_count": null,
   "id": "66ff7066",
   "metadata": {},
   "outputs": [],
   "source": []
  }
 ],
 "metadata": {
  "kernelspec": {
   "display_name": "Python 3 (ipykernel)",
   "language": "python",
   "name": "python3"
  },
  "language_info": {
   "codemirror_mode": {
    "name": "ipython",
    "version": 3
   },
   "file_extension": ".py",
   "mimetype": "text/x-python",
   "name": "python",
   "nbconvert_exporter": "python",
   "pygments_lexer": "ipython3",
   "version": "3.10.5"
  }
 },
 "nbformat": 4,
 "nbformat_minor": 5
}
